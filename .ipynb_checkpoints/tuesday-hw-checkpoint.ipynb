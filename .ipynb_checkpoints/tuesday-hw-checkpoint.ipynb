{
 "cells": [
  {
   "cell_type": "code",
   "execution_count": 20,
   "id": "3cebb6e7",
   "metadata": {},
   "outputs": [
    {
     "name": "stdout",
     "output_type": "stream",
     "text": [
      "Type 'add' to add a new item to your shopping list.\n",
      "Type 'delete' to remove an item from your shopping list.\n",
      "Type 'show' to list all current items on your list.\n",
      "Type 'quit' to exit the program.\n",
      "==================================================\n",
      "What is your choice? Add | Show? | Delete | Quit quit\n",
      "Are you sure you want to quit? Y/N? y\n",
      "[{'item_name': 'grape'}, {'item_name': 'apple'}]\n"
     ]
    }
   ],
   "source": [
    "#Should have the following capabilities:\n",
    "\n",
    "# 1) Takes in input\n",
    "# 2) Stores user input into a list\n",
    "# 3) User can add or delete items\n",
    "# 4) User can see current shopping list\n",
    "# 5) Loops until user 'quits'\n",
    "# 6) Upon quiting the program, print out all items in the user's list\n",
    "\n",
    "from IPython.display import clear_output as co\n",
    "\n",
    "def show_instructions():\n",
    "    print(\"\"\"Type 'add' to add a new item to your shopping list.\n",
    "Type 'delete' to remove an item from your shopping list.\n",
    "Type 'show' to list all current items on your list.\n",
    "Type 'quit' to exit the program.\"\"\")\n",
    "    print(\"=\"*50)\n",
    "\n",
    "def shopping_list():\n",
    "    input('Welcome to Shopping List! Press any key to continue. ')\n",
    "    print(\"=\"*50)\n",
    "    \n",
    "    items = []\n",
    "    done = False\n",
    "\n",
    "    while not done:\n",
    "        co()\n",
    "        \n",
    "        show_instructions()\n",
    "        \n",
    "        choice = input(\"What is your choice? Add | Show? | Delete | Quit \").lower()\n",
    "        if choice == 'add':\n",
    "            item_name = input(\"Type in the name of the item. \").lower()\n",
    "\n",
    "            item_dictionary = {\n",
    "                'item_name': item_name,\n",
    "            }\n",
    "            \n",
    "            items.append(item_dictionary)\n",
    "        \n",
    "        elif choice == 'show':\n",
    "            for item in items:\n",
    "                print(item)\n",
    "            input('Press any key to continue')\n",
    "        elif choice == 'delete':\n",
    "            item_name = input(\"What would you like to remove? \").lower()\n",
    "            items = [i for i in items if not (i['item_name'] == item_name)]\n",
    "        elif choice == 'quit':\n",
    "            confirm = input('Are you sure you want to quit? Y/N? ').lower()\n",
    "            if confirm == 'y':\n",
    "                done = True\n",
    "            elif confirm == 'n':\n",
    "                continue\n",
    "            \n",
    "                \n",
    "    print(items)\n",
    "    \n",
    "shopping_list()\n"
   ]
  },
  {
   "cell_type": "code",
   "execution_count": 26,
   "id": "a59a76e0",
   "metadata": {},
   "outputs": [
    {
     "data": {
      "text/plain": [
       "(4, 62.83185307179586)"
      ]
     },
     "execution_count": 26,
     "metadata": {},
     "output_type": "execute_result"
    }
   ],
   "source": [
    "from my_module import square_footage as sqft, circumference as c\n",
    "\n",
    "sqft(2, 2), c(10)"
   ]
  },
  {
   "cell_type": "code",
   "execution_count": null,
   "id": "de2efa5e",
   "metadata": {},
   "outputs": [],
   "source": []
  }
 ],
 "metadata": {
  "kernelspec": {
   "display_name": "Python 3",
   "language": "python",
   "name": "python3"
  },
  "language_info": {
   "codemirror_mode": {
    "name": "ipython",
    "version": 3
   },
   "file_extension": ".py",
   "mimetype": "text/x-python",
   "name": "python",
   "nbconvert_exporter": "python",
   "pygments_lexer": "ipython3",
   "version": "3.8.8"
  }
 },
 "nbformat": 4,
 "nbformat_minor": 5
}
